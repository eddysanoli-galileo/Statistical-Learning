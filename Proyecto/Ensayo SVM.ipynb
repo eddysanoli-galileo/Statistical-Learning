{
 "metadata": {
  "language_info": {
   "codemirror_mode": {
    "name": "ipython",
    "version": 3
   },
   "file_extension": ".py",
   "mimetype": "text/x-python",
   "name": "python",
   "nbconvert_exporter": "python",
   "pygments_lexer": "ipython3",
   "version": 3
  },
  "orig_nbformat": 4
 },
 "nbformat": 4,
 "nbformat_minor": 2,
 "cells": [
  {
   "source": [
    "# Ensayo SVM\n",
    "\n",
    "Debe ser agregado al proyecto en un notebook con descripción, texto, imágenes, etc en markdown y ejemplos en código:\n",
    "\n",
    "- hipótesis de SVM\n",
    "- función de costo\n",
    "- Algoritmo de aprendizaje/entrenamiento\n",
    "- Propiedades, similitudes, diferencias ,ventajas y desventajas sobre otros algoritmos y modelos.\n",
    "- Kernel-trick/basis functions\n",
    "\n",
    "Referencias útiles:\n",
    "- [Contenido SVM galileo(2020)](https://youtu.be/pdR9_eylib8?t=6134)\n",
    "- [Hands on Machine Learning with sklearn and tensorflow (capitulo 5)](https://github.com/yanshengjia/ml-road/blob/master/resources/Hands%20On%20Machine%20Learning%20with%20Scikit%20Learn%20and%20TensorFlow.pdf)\n",
    "- [Support vector machines(Stanford CS229 Machine Lerning 2018)](https://youtu.be/lDwow4aOrtg)\n",
    "- [Kernel trick](https://www.youtube.com/watch?v=vMmG_7JcfIc)\n",
    "\n",
    "Videos de estudiantes de años previos:\n",
    "- https://youtu.be/VWwb3IAB6Rc\n",
    "- https://youtu.be/envRLLZmio8\n",
    "\n",
    "\n",
    "------"
   ],
   "cell_type": "markdown",
   "metadata": {}
  }
 ]
}